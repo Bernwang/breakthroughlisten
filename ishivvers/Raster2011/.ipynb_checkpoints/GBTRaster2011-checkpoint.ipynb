{
 "cells": [
  {
   "cell_type": "markdown",
   "metadata": {},
   "source": [
    "# Inspecting the 2011 GBT Raster Scan data set\n",
    "\n",
    "\n",
    "### Before doing anything, you must download the data.\n",
    "1. [Catalog1](http://classy.astro.berkeley.edu/data/KeplerRasterScan_1.4-1.5Ghz.all.txt)\n",
    "1. [Catalog2](http://classy.astro.berkeley.edu/data/KeplerRasterScan_1.4-1.5Ghz.trimmed.txt)\n",
    "1. [DataFiles](http://classy.astro.berkeley.edu/data/KeplerGBT1.4-1.5Ghz.tgz) (7.3 GB tarfile!)\n",
    "\n",
    "-----------------------------\n",
    "\n",
    "This data set was observed in 2011 by scanning back and forth (a [raster scan pattern](http://www.aanda.org/articles/aa/full/2007/41/aa7811-07/img52.gif) with the GBT over\n",
    "the entire [Kepler field](https://en.wikipedia.org/wiki/Kepler_(spacecraft)) - i.e. the patch of sky the original Kepler mission observed.  This took about 11 hours, and the telescope was observing between 1.1 and 1.9 GHz.  Because the telescope was moving continuously over the sky, the dimensions of time and the 1-D position along the scan path cannot be disentagled.\n",
    "\n",
    "The data were recorded to disk in the raw \"baseband voltage\" format, and I searched through them for bright and relatively narrow-band signals.  This search was run by using a GPU-accelerated code to produce power spectra with effective integration times of ~4.8 seconds and resolutions of ~3 Hz.  In these spectra, I searched for all signals with a signal-to-noise ratio greater than 10.0 (after correcting for Doppler drifts between $\\pm$10 Hz).\n",
    "\n",
    "If a detected signal obviously persists for more than ~16 seconds (the time it takes the telescope to move ~15 arcminutes on the sky), then I know that the signal did not come from space and is local radio interference (i.e. it is \"confined\" on the sky).  A steady signal from a single point in space would only be detected as the telescope scanned over that spot.  If the signal could possibly have originated from a single point in space, I recorded a slice of that signal in a \"waterfall plot\" and recorded  some metadata (the signal-to-noise ratio, the time, and the coordinates on the sky we detected it).  If the signal did not pass our cut, however, then I only recorded the metadata in a big database and did not keep a waterfall plot.\n",
    "\n",
    "Because my code scanned the data in a rolling window averaging manner, and because many signals vary in brightness a lot over time, many bright signals were detected more than once.  In addition, the first pass through the data recorded many signals that passed my simple confined/not-confined algorithm but really weren't.  I trimmed this data set by implementing a more rigorous confined/not-confined test and by identifying all duplicates.\n",
    "\n",
    "For this demo notebook, I've packaged up the data from 1.4 to 1.5 GHz, which includes the hydrogen 21cm/1420MHz zone (a frequency that has historically been important for SETI searches).  This is ~1/8th of the total data from this data set, and I can package up and make available the rest of it if requested.\n",
    "\n",
    "The major goal is to identify sources of radio-wavelength flux from here on earth (Radio Frequency Interference, or RFI) from any possible signal from an astronomical source.  RFI is common, diverse, and pernicious.\n",
    "\n",
    "----------------------------------------\n",
    "\n",
    "__KeplerGBT1.4-1.5Ghz.tgz__:\n",
    "A huge tarball of all waterfall plots between 1.4 and 1.5 Ghz.  Unpack with the command ``tar -xvz KeplerGBT1.4-1.5Ghz.tgz``.  Uncompressed numpy arrays are saved in folders grouped by scan row (the telescope scanned back and forth 90 times over 11 hours to cover the whole field).\n",
    "\n",
    "__KeplerRasterScan_1.4-1.5Ghz.all.txt__:\n",
    "A text catalog with metadata for every waterfall plot included.\n",
    "\n",
    "__KeplerRasterScan_1.4-1.5Ghz.trimmed.txt__:\n",
    "A text catalog with metadata for only those waterfall plots that pass the more rigorous second-pass cuts.  I recommend you examine only these files.\n"
   ]
  },
  {
   "cell_type": "markdown",
   "metadata": {},
   "source": [
    "# Imports and definitions"
   ]
  },
  {
   "cell_type": "code",
   "execution_count": null,
   "metadata": {
    "collapsed": false
   },
   "outputs": [],
   "source": [
    "%pylab inline\n",
    "import os\n",
    "\n",
    "DATADIR = '/media/Flipper/seti_search'  # path to your copy of the data\n",
    "CATDIR = '/media/Flipper/seti_search/tarballs' # path to your copy of the text catalogs\n"
   ]
  },
  {
   "cell_type": "code",
   "execution_count": null,
   "metadata": {
    "collapsed": false
   },
   "outputs": [],
   "source": [
    "def plotone( f, log=False, rootdir=DATADIR ):\n",
    "    \"\"\"Plot a single waterfall plot with labeled axes\"\"\"\n",
    "    dtime = 0.3 #time between tables in a spectrum (s)\n",
    "    dangle = 0.53 #angular distance between tables in a spectrum (arcmin)\n",
    "    d = np.load( os.path.join(rootdir,f) )\n",
    "    fqs = d[0,:]\n",
    "    l = d.shape[0] - 1\n",
    "    plt.figure()\n",
    "    if log:\n",
    "        plt.pcolor( fqs, np.arange(-l/2,l/2), np.log10(d[1:,:]) )\n",
    "        c = plt.colorbar()\n",
    "        c.set_label('Log10 SNR')\n",
    "    else:\n",
    "        plt.pcolor( fqs, np.arange(-l/2,l/2), d[1:,:] )\n",
    "        c = plt.colorbar()\n",
    "        c.set_label('SNR')\n",
    "    # put time on LH side\n",
    "    ax = plt.gca()\n",
    "    nt = 7\n",
    "    ticklocs = np.linspace(-l/2,l/2,nt)\n",
    "    times = ['%d'%t for t in np.linspace(-dtime*(l/2), dtime*(l/2), nt)]\n",
    "    ax.set_yticks(ticklocs)\n",
    "    ax.set_yticklabels(times)\n",
    "    ax.set_ylabel('Time (s)')\n",
    "    # put angular seperation on RH side\n",
    "    ax2 = ax.twinx()\n",
    "    angseps = ['%d'%t for t in np.linspace(-dangle*(l/2), dangle*(l/2), 7)]\n",
    "    ax2.set_yticks(ticklocs)\n",
    "    ax2.set_yticklabels(angseps)\n",
    "    ax2.set_ylabel('Angular Seperation (arcmin)', rotation=270, color='k')\n",
    "    ax2.yaxis.set_label_coords( 0.98, 0.5 )\n",
    "    # x axis is frequency\n",
    "    nt = 5 #true number one fewer, b/c of space reasons\n",
    "    x = map(lambda g: round(g,5), np.linspace(fqs[0], fqs[-1], nt)[:-1])\n",
    "    xlabels = ['%.5f'%g for g in x]\n",
    "    ax.set_xticks(x)\n",
    "    ax.set_xticklabels(xlabels, rotation=-20, ha='left')\n",
    "    ax.set_xlabel('Frequency (MHz)')\n",
    "    plt.tight_layout()\n",
    "    try:\n",
    "        plt.title( f.split('storage/')[1] )\n",
    "    except:\n",
    "        plt.title( f )\n",
    "    plt.show()\n",
    "\n",
    "def parse_catalog( f=os.path.join(CATDIR,'KeplerRasterScan_1.4-1.5Ghz.trimmed.txt') ):\n",
    "    \"\"\"Parse the text catalogs. RA and Decl. are in decimal degrees, and frequency is in MHz.\"\"\"\n",
    "    d = np.genfromtxt( f, skip_header=1, dtype={'names':('path','freq','ra','dec'),\n",
    "                                               'formats':('|S100',np.float,np.float,np.float)} )\n",
    "    return d\n",
    "\n",
    "def plot_kepler_field( ras, decs, kepfile='kepler_field.txt' ):\n",
    "    \"\"\"Plot the positions of sources over the Kepler Field\"\"\"\n",
    "    plt.figure()\n",
    "    # draw all of the corners of the Kepler field\n",
    "    kepfield = np.loadtxt( kepfile )\n",
    "    icorners = np.array( [0, 5, 10, 15, 0] )\n",
    "    for i in set( kepfield[:,0] ):\n",
    "        # choose one module at a time\n",
    "        kf = kepfield[ kepfield[:,0] == i ]\n",
    "        kras = kf[:,10][ icorners ]\n",
    "        kdecs = kf[:,11][ icorners ]\n",
    "        plt.plot( kras, kdecs, 'k', lw=3, color='r', alpha=0.5 )\n",
    "     \n",
    "    plt.scatter( ras, decs, c='k', marker='.')\n",
    "    plt.xlabel('R.A.')\n",
    "    plt.ylabel('Decl.')\n",
    "    plt.show()"
   ]
  },
  {
   "cell_type": "markdown",
   "metadata": {},
   "source": [
    "# Examine some waterfall plots"
   ]
  },
  {
   "cell_type": "code",
   "execution_count": null,
   "metadata": {
    "collapsed": false
   },
   "outputs": [],
   "source": [
    "catalog = parse_catalog()"
   ]
  },
  {
   "cell_type": "code",
   "execution_count": null,
   "metadata": {
    "collapsed": false
   },
   "outputs": [],
   "source": [
    "rando_wf = catalog[np.random.randint(catalog.shape[0])]\n",
    "plotone( rando_wf['path'] )\n",
    "\n",
    "print 'RA: %f\\nDEC: %f'%(rando_wf['ra'],rando_wf['dec'])"
   ]
  },
  {
   "cell_type": "markdown",
   "metadata": {},
   "source": [
    "## Signals are strongly clustered in frequency:"
   ]
  },
  {
   "cell_type": "code",
   "execution_count": null,
   "metadata": {
    "collapsed": false
   },
   "outputs": [],
   "source": [
    "plt.figure()\n",
    "hist = plt.hist( catalog['freq'], bins=500 )\n",
    "plt.ylabel('count')\n",
    "plt.xlabel('frequency (MHz)')\n",
    "plt.show()"
   ]
  },
  {
   "cell_type": "markdown",
   "metadata": {},
   "source": [
    "## Signals are not strongly clustered in position on the sky:"
   ]
  },
  {
   "cell_type": "code",
   "execution_count": null,
   "metadata": {
    "collapsed": false
   },
   "outputs": [],
   "source": [
    "plot_kepler_field( catalog['ra'],catalog['dec'] )"
   ]
  },
  {
   "cell_type": "markdown",
   "metadata": {},
   "source": [
    "## To do:\n",
    "\n",
    "- Explore how data is structured: there are many different signal types in this data set.\n",
    "- Identify subpopulations and outliers.\n",
    " - Frequency clustering is powerful, but we want to be able to find interesting signals even if they are near the frequency of an RFI cluster.\n",
    " - Any subpopulation that is spread over the sky is definitely RFI, but a subpopulation that comes from one spot on the sky may be interesting! (This search has a spatial resolution of 10-20 arcminutes.)\n",
    "- Remember that computational speed is important; this data set only represents 1/8th of 11 hours of observation!"
   ]
  }
 ],
 "metadata": {
  "kernelspec": {
   "display_name": "Python 2",
   "language": "python",
   "name": "python2"
  },
  "language_info": {
   "codemirror_mode": {
    "name": "ipython",
    "version": 2
   },
   "file_extension": ".py",
   "mimetype": "text/x-python",
   "name": "python",
   "nbconvert_exporter": "python",
   "pygments_lexer": "ipython2",
   "version": "2.7.11"
  }
 },
 "nbformat": 4,
 "nbformat_minor": 0
}
